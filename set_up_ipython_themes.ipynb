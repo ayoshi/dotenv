{
 "metadata": {
  "name": "",
  "signature": "sha256:f8d5d348d042385012de1039db2d05c3bf8cceab1abfdc011ffa10c9418e794b"
 },
 "nbformat": 3,
 "nbformat_minor": 0,
 "worksheets": [
  {
   "cells": [
    {
     "cell_type": "code",
     "collapsed": false,
     "input": [
      "import os\n",
      "import subprocess\n",
      "import urllib"
     ],
     "language": "python",
     "metadata": {},
     "outputs": [],
     "prompt_number": 2
    },
    {
     "cell_type": "code",
     "collapsed": false,
     "input": [
      "theme_names = ['3024-dark',\n",
      "               '3024-light',\n",
      "               'atelierdune-dark',\n",
      "               'atelierdune-light',\n",
      "               'atelierforest-dark',\n",
      "               'atelierforest-light',\n",
      "               'atelierheath-dark',\n",
      "               'atelierheath-light',\n",
      "               'atelierlakeside-dark',\n",
      "               'atelierlakeside-light',\n",
      "               'atelierseaside-dark',\n",
      "               'atelierseaside-light',\n",
      "               'bespin-dark',\n",
      "               'bespin-light',\n",
      "               'chalk-dark',\n",
      "               'chalk-light',\n",
      "               'default-dark',\n",
      "               'default-light',\n",
      "               'eighties-dark',\n",
      "               'eighties-light',\n",
      "               'grayscale-dark',\n",
      "               'grayscale-light',\n",
      "               'greenscreen-dark',\n",
      "               'greenscreen-light',\n",
      "               'isotope-dark',\n",
      "               'isotope-light',\n",
      "               'londontube-dark',\n",
      "               'londontube-light',\n",
      "               'marrakesh-dark',\n",
      "               'marrakesh-light',\n",
      "               'mocha-dark',\n",
      "               'mocha-light',\n",
      "               'monokai-dark',\n",
      "               'monokai-light',\n",
      "               'ocean-dark',\n",
      "               'ocean-light',\n",
      "               'paraiso-dark',\n",
      "               'paraiso-light',\n",
      "               'railscasts-dark',\n",
      "               'railscasts-light',\n",
      "               'shapeshifter-dark',\n",
      "               'shapeshifter-light',\n",
      "               'solarized-dark',\n",
      "               'solarized-light',\n",
      "               'tomorrow-dark',\n",
      "               'tomorrow-light',\n",
      "               'twilight-dark',\n",
      "               'twilight-light']"
     ],
     "language": "python",
     "metadata": {},
     "outputs": [],
     "prompt_number": 3
    },
    {
     "cell_type": "code",
     "collapsed": false,
     "input": [
      "for i in theme_names:\n",
      "    !ipython profile create $i\n",
      "    profile_dir = !ipython locate profile $i\n",
      "    url = \"https://raw.githubusercontent.com/nsonnad/base16-ipython-notebook/master/base16-\" + i + \".css\"\n",
      "    directory = os.path.join(profile_dir[0], 'static', 'custom')\n",
      "    if not os.path.exists(directory):\n",
      "        os.makedirs(directory)\n",
      "    tgt = os.path.join(profile_dir[0], 'static', 'custom', \"custom.css\")\n",
      "    urllib.urlretrieve (url, tgt)"
     ],
     "language": "python",
     "metadata": {},
     "outputs": [
      {
       "output_type": "stream",
       "stream": "stdout",
       "text": [
        "[ProfileCreate] Generating default config file: u'/Users/alexg/.ipython/profile_3024-dark/ipython_config.py'\r\n"
       ]
      },
      {
       "output_type": "stream",
       "stream": "stdout",
       "text": [
        "[ProfileCreate] Generating default config file: u'/Users/alexg/.ipython/profile_3024-dark/ipython_notebook_config.py'\r\n",
        "[ProfileCreate] Generating default config file: u'/Users/alexg/.ipython/profile_3024-dark/ipython_nbconvert_config.py'\r\n"
       ]
      },
      {
       "output_type": "stream",
       "stream": "stdout",
       "text": [
        "[ProfileCreate] Generating default config file: u'/Users/alexg/.ipython/profile_3024-light/ipython_config.py'\r\n",
        "[ProfileCreate] Generating default config file: u'/Users/alexg/.ipython/profile_3024-light/ipython_notebook_config.py'\r\n",
        "[ProfileCreate] Generating default config file: u'/Users/alexg/.ipython/profile_3024-light/ipython_nbconvert_config.py'\r\n"
       ]
      },
      {
       "output_type": "stream",
       "stream": "stdout",
       "text": [
        "[ProfileCreate] Generating default config file: u'/Users/alexg/.ipython/profile_atelierdune-dark/ipython_config.py'\r\n"
       ]
      },
      {
       "output_type": "stream",
       "stream": "stdout",
       "text": [
        "[ProfileCreate] Generating default config file: u'/Users/alexg/.ipython/profile_atelierdune-dark/ipython_notebook_config.py'\r\n",
        "[ProfileCreate] Generating default config file: u'/Users/alexg/.ipython/profile_atelierdune-dark/ipython_nbconvert_config.py'\r\n"
       ]
      },
      {
       "output_type": "stream",
       "stream": "stdout",
       "text": [
        "[ProfileCreate] Generating default config file: u'/Users/alexg/.ipython/profile_atelierdune-light/ipython_config.py'\r\n"
       ]
      },
      {
       "output_type": "stream",
       "stream": "stdout",
       "text": [
        "[ProfileCreate] Generating default config file: u'/Users/alexg/.ipython/profile_atelierdune-light/ipython_notebook_config.py'\r\n"
       ]
      },
      {
       "output_type": "stream",
       "stream": "stdout",
       "text": [
        "[ProfileCreate] Generating default config file: u'/Users/alexg/.ipython/profile_atelierdune-light/ipython_nbconvert_config.py'\r\n"
       ]
      },
      {
       "output_type": "stream",
       "stream": "stdout",
       "text": [
        "[ProfileCreate] Generating default config file: u'/Users/alexg/.ipython/profile_atelierforest-dark/ipython_config.py'\r\n",
        "[ProfileCreate] Generating default config file: u'/Users/alexg/.ipython/profile_atelierforest-dark/ipython_notebook_config.py'\r\n"
       ]
      },
      {
       "output_type": "stream",
       "stream": "stdout",
       "text": [
        "[ProfileCreate] Generating default config file: u'/Users/alexg/.ipython/profile_atelierforest-dark/ipython_nbconvert_config.py'\r\n"
       ]
      },
      {
       "output_type": "stream",
       "stream": "stdout",
       "text": [
        "[ProfileCreate] Generating default config file: u'/Users/alexg/.ipython/profile_atelierforest-light/ipython_config.py'\r\n"
       ]
      },
      {
       "output_type": "stream",
       "stream": "stdout",
       "text": [
        "[ProfileCreate] Generating default config file: u'/Users/alexg/.ipython/profile_atelierforest-light/ipython_notebook_config.py'\r\n"
       ]
      },
      {
       "output_type": "stream",
       "stream": "stdout",
       "text": [
        "[ProfileCreate] Generating default config file: u'/Users/alexg/.ipython/profile_atelierforest-light/ipython_nbconvert_config.py'\r\n"
       ]
      },
      {
       "output_type": "stream",
       "stream": "stdout",
       "text": [
        "[ProfileCreate] Generating default config file: u'/Users/alexg/.ipython/profile_atelierheath-dark/ipython_config.py'\r\n"
       ]
      },
      {
       "output_type": "stream",
       "stream": "stdout",
       "text": [
        "[ProfileCreate] Generating default config file: u'/Users/alexg/.ipython/profile_atelierheath-dark/ipython_notebook_config.py'\r\n",
        "[ProfileCreate] Generating default config file: u'/Users/alexg/.ipython/profile_atelierheath-dark/ipython_nbconvert_config.py'\r\n"
       ]
      },
      {
       "output_type": "stream",
       "stream": "stdout",
       "text": [
        "[ProfileCreate] Generating default config file: u'/Users/alexg/.ipython/profile_atelierheath-light/ipython_config.py'\r\n",
        "[ProfileCreate] Generating default config file: u'/Users/alexg/.ipython/profile_atelierheath-light/ipython_notebook_config.py'\r\n"
       ]
      },
      {
       "output_type": "stream",
       "stream": "stdout",
       "text": [
        "[ProfileCreate] Generating default config file: u'/Users/alexg/.ipython/profile_atelierheath-light/ipython_nbconvert_config.py'\r\n"
       ]
      },
      {
       "output_type": "stream",
       "stream": "stdout",
       "text": [
        "[ProfileCreate] Generating default config file: u'/Users/alexg/.ipython/profile_atelierlakeside-dark/ipython_config.py'\r\n",
        "[ProfileCreate] Generating default config file: u'/Users/alexg/.ipython/profile_atelierlakeside-dark/ipython_notebook_config.py'\r\n"
       ]
      },
      {
       "output_type": "stream",
       "stream": "stdout",
       "text": [
        "[ProfileCreate] Generating default config file: u'/Users/alexg/.ipython/profile_atelierlakeside-dark/ipython_nbconvert_config.py'\r\n"
       ]
      },
      {
       "output_type": "stream",
       "stream": "stdout",
       "text": [
        "[ProfileCreate] Generating default config file: u'/Users/alexg/.ipython/profile_atelierlakeside-light/ipython_config.py'\r\n",
        "[ProfileCreate] Generating default config file: u'/Users/alexg/.ipython/profile_atelierlakeside-light/ipython_notebook_config.py'\r\n"
       ]
      },
      {
       "output_type": "stream",
       "stream": "stdout",
       "text": [
        "[ProfileCreate] Generating default config file: u'/Users/alexg/.ipython/profile_atelierlakeside-light/ipython_nbconvert_config.py'\r\n"
       ]
      },
      {
       "output_type": "stream",
       "stream": "stdout",
       "text": [
        "[ProfileCreate] Generating default config file: u'/Users/alexg/.ipython/profile_atelierseaside-dark/ipython_config.py'\r\n"
       ]
      },
      {
       "output_type": "stream",
       "stream": "stdout",
       "text": [
        "[ProfileCreate] Generating default config file: u'/Users/alexg/.ipython/profile_atelierseaside-dark/ipython_notebook_config.py'\r\n"
       ]
      },
      {
       "output_type": "stream",
       "stream": "stdout",
       "text": [
        "[ProfileCreate] Generating default config file: u'/Users/alexg/.ipython/profile_atelierseaside-dark/ipython_nbconvert_config.py'\r\n"
       ]
      },
      {
       "output_type": "stream",
       "stream": "stdout",
       "text": [
        "[ProfileCreate] Generating default config file: u'/Users/alexg/.ipython/profile_atelierseaside-light/ipython_config.py'\r\n"
       ]
      },
      {
       "output_type": "stream",
       "stream": "stdout",
       "text": [
        "[ProfileCreate] Generating default config file: u'/Users/alexg/.ipython/profile_atelierseaside-light/ipython_notebook_config.py'\r\n"
       ]
      },
      {
       "output_type": "stream",
       "stream": "stdout",
       "text": [
        "[ProfileCreate] Generating default config file: u'/Users/alexg/.ipython/profile_atelierseaside-light/ipython_nbconvert_config.py'\r\n"
       ]
      },
      {
       "output_type": "stream",
       "stream": "stdout",
       "text": [
        "[ProfileCreate] Generating default config file: u'/Users/alexg/.ipython/profile_bespin-dark/ipython_config.py'\r\n"
       ]
      },
      {
       "output_type": "stream",
       "stream": "stdout",
       "text": [
        "[ProfileCreate] Generating default config file: u'/Users/alexg/.ipython/profile_bespin-dark/ipython_notebook_config.py'\r\n"
       ]
      },
      {
       "output_type": "stream",
       "stream": "stdout",
       "text": [
        "[ProfileCreate] Generating default config file: u'/Users/alexg/.ipython/profile_bespin-dark/ipython_nbconvert_config.py'\r\n"
       ]
      },
      {
       "output_type": "stream",
       "stream": "stdout",
       "text": [
        "[ProfileCreate] Generating default config file: u'/Users/alexg/.ipython/profile_bespin-light/ipython_config.py'\r\n"
       ]
      },
      {
       "output_type": "stream",
       "stream": "stdout",
       "text": [
        "[ProfileCreate] Generating default config file: u'/Users/alexg/.ipython/profile_bespin-light/ipython_notebook_config.py'\r\n"
       ]
      },
      {
       "output_type": "stream",
       "stream": "stdout",
       "text": [
        "[ProfileCreate] Generating default config file: u'/Users/alexg/.ipython/profile_bespin-light/ipython_nbconvert_config.py'\r\n"
       ]
      },
      {
       "output_type": "stream",
       "stream": "stdout",
       "text": [
        "[ProfileCreate] Generating default config file: u'/Users/alexg/.ipython/profile_chalk-dark/ipython_config.py'\r\n"
       ]
      },
      {
       "output_type": "stream",
       "stream": "stdout",
       "text": [
        "[ProfileCreate] Generating default config file: u'/Users/alexg/.ipython/profile_chalk-dark/ipython_notebook_config.py'\r\n"
       ]
      },
      {
       "output_type": "stream",
       "stream": "stdout",
       "text": [
        "[ProfileCreate] Generating default config file: u'/Users/alexg/.ipython/profile_chalk-dark/ipython_nbconvert_config.py'\r\n"
       ]
      },
      {
       "output_type": "stream",
       "stream": "stdout",
       "text": [
        "[ProfileCreate] Generating default config file: u'/Users/alexg/.ipython/profile_chalk-light/ipython_config.py'\r\n",
        "[ProfileCreate] Generating default config file: u'/Users/alexg/.ipython/profile_chalk-light/ipython_notebook_config.py'\r\n"
       ]
      },
      {
       "output_type": "stream",
       "stream": "stdout",
       "text": [
        "[ProfileCreate] Generating default config file: u'/Users/alexg/.ipython/profile_chalk-light/ipython_nbconvert_config.py'\r\n"
       ]
      },
      {
       "output_type": "stream",
       "stream": "stdout",
       "text": [
        "[ProfileCreate] Generating default config file: u'/Users/alexg/.ipython/profile_default-dark/ipython_config.py'\r\n"
       ]
      },
      {
       "output_type": "stream",
       "stream": "stdout",
       "text": [
        "[ProfileCreate] Generating default config file: u'/Users/alexg/.ipython/profile_default-dark/ipython_notebook_config.py'\r\n",
        "[ProfileCreate] Generating default config file: u'/Users/alexg/.ipython/profile_default-dark/ipython_nbconvert_config.py'\r\n"
       ]
      },
      {
       "output_type": "stream",
       "stream": "stdout",
       "text": [
        "[ProfileCreate] Generating default config file: u'/Users/alexg/.ipython/profile_default-light/ipython_config.py'\r\n",
        "[ProfileCreate] Generating default config file: u'/Users/alexg/.ipython/profile_default-light/ipython_notebook_config.py'\r\n"
       ]
      },
      {
       "output_type": "stream",
       "stream": "stdout",
       "text": [
        "[ProfileCreate] Generating default config file: u'/Users/alexg/.ipython/profile_default-light/ipython_nbconvert_config.py'\r\n"
       ]
      },
      {
       "output_type": "stream",
       "stream": "stdout",
       "text": [
        "[ProfileCreate] Generating default config file: u'/Users/alexg/.ipython/profile_eighties-dark/ipython_config.py'\r\n",
        "[ProfileCreate] Generating default config file: u'/Users/alexg/.ipython/profile_eighties-dark/ipython_notebook_config.py'\r\n"
       ]
      },
      {
       "output_type": "stream",
       "stream": "stdout",
       "text": [
        "[ProfileCreate] Generating default config file: u'/Users/alexg/.ipython/profile_eighties-dark/ipython_nbconvert_config.py'\r\n"
       ]
      },
      {
       "output_type": "stream",
       "stream": "stdout",
       "text": [
        "[ProfileCreate] Generating default config file: u'/Users/alexg/.ipython/profile_eighties-light/ipython_config.py'\r\n",
        "[ProfileCreate] Generating default config file: u'/Users/alexg/.ipython/profile_eighties-light/ipython_notebook_config.py'\r\n"
       ]
      },
      {
       "output_type": "stream",
       "stream": "stdout",
       "text": [
        "[ProfileCreate] Generating default config file: u'/Users/alexg/.ipython/profile_eighties-light/ipython_nbconvert_config.py'\r\n"
       ]
      },
      {
       "output_type": "stream",
       "stream": "stdout",
       "text": [
        "[ProfileCreate] Generating default config file: u'/Users/alexg/.ipython/profile_grayscale-dark/ipython_config.py'\r\n"
       ]
      },
      {
       "output_type": "stream",
       "stream": "stdout",
       "text": [
        "[ProfileCreate] Generating default config file: u'/Users/alexg/.ipython/profile_grayscale-dark/ipython_notebook_config.py'\r\n"
       ]
      },
      {
       "output_type": "stream",
       "stream": "stdout",
       "text": [
        "[ProfileCreate] Generating default config file: u'/Users/alexg/.ipython/profile_grayscale-dark/ipython_nbconvert_config.py'\r\n"
       ]
      },
      {
       "output_type": "stream",
       "stream": "stdout",
       "text": [
        "[ProfileCreate] Generating default config file: u'/Users/alexg/.ipython/profile_grayscale-light/ipython_config.py'\r\n",
        "[ProfileCreate] Generating default config file: u'/Users/alexg/.ipython/profile_grayscale-light/ipython_notebook_config.py'\r\n"
       ]
      },
      {
       "output_type": "stream",
       "stream": "stdout",
       "text": [
        "[ProfileCreate] Generating default config file: u'/Users/alexg/.ipython/profile_grayscale-light/ipython_nbconvert_config.py'\r\n"
       ]
      },
      {
       "output_type": "stream",
       "stream": "stdout",
       "text": [
        "[ProfileCreate] Generating default config file: u'/Users/alexg/.ipython/profile_greenscreen-dark/ipython_config.py'\r\n"
       ]
      },
      {
       "output_type": "stream",
       "stream": "stdout",
       "text": [
        "[ProfileCreate] Generating default config file: u'/Users/alexg/.ipython/profile_greenscreen-dark/ipython_notebook_config.py'\r\n"
       ]
      },
      {
       "output_type": "stream",
       "stream": "stdout",
       "text": [
        "[ProfileCreate] Generating default config file: u'/Users/alexg/.ipython/profile_greenscreen-dark/ipython_nbconvert_config.py'\r\n"
       ]
      },
      {
       "output_type": "stream",
       "stream": "stdout",
       "text": [
        "[ProfileCreate] Generating default config file: u'/Users/alexg/.ipython/profile_greenscreen-light/ipython_config.py'\r\n"
       ]
      },
      {
       "output_type": "stream",
       "stream": "stdout",
       "text": [
        "[ProfileCreate] Generating default config file: u'/Users/alexg/.ipython/profile_greenscreen-light/ipython_notebook_config.py'\r\n",
        "[ProfileCreate] Generating default config file: u'/Users/alexg/.ipython/profile_greenscreen-light/ipython_nbconvert_config.py'\r\n"
       ]
      },
      {
       "output_type": "stream",
       "stream": "stdout",
       "text": [
        "[ProfileCreate] Generating default config file: u'/Users/alexg/.ipython/profile_isotope-dark/ipython_config.py'\r\n",
        "[ProfileCreate] Generating default config file: u'/Users/alexg/.ipython/profile_isotope-dark/ipython_notebook_config.py'\r\n"
       ]
      },
      {
       "output_type": "stream",
       "stream": "stdout",
       "text": [
        "[ProfileCreate] Generating default config file: u'/Users/alexg/.ipython/profile_isotope-dark/ipython_nbconvert_config.py'\r\n"
       ]
      },
      {
       "output_type": "stream",
       "stream": "stdout",
       "text": [
        "[ProfileCreate] Generating default config file: u'/Users/alexg/.ipython/profile_isotope-light/ipython_config.py'\r\n",
        "[ProfileCreate] Generating default config file: u'/Users/alexg/.ipython/profile_isotope-light/ipython_notebook_config.py'\r\n"
       ]
      },
      {
       "output_type": "stream",
       "stream": "stdout",
       "text": [
        "[ProfileCreate] Generating default config file: u'/Users/alexg/.ipython/profile_isotope-light/ipython_nbconvert_config.py'\r\n"
       ]
      },
      {
       "output_type": "stream",
       "stream": "stdout",
       "text": [
        "[ProfileCreate] Generating default config file: u'/Users/alexg/.ipython/profile_londontube-dark/ipython_config.py'\r\n",
        "[ProfileCreate] Generating default config file: u'/Users/alexg/.ipython/profile_londontube-dark/ipython_notebook_config.py'\r\n"
       ]
      },
      {
       "output_type": "stream",
       "stream": "stdout",
       "text": [
        "[ProfileCreate] Generating default config file: u'/Users/alexg/.ipython/profile_londontube-dark/ipython_nbconvert_config.py'\r\n"
       ]
      },
      {
       "output_type": "stream",
       "stream": "stdout",
       "text": [
        "[ProfileCreate] Generating default config file: u'/Users/alexg/.ipython/profile_londontube-light/ipython_config.py'\r\n",
        "[ProfileCreate] Generating default config file: u'/Users/alexg/.ipython/profile_londontube-light/ipython_notebook_config.py'\r\n"
       ]
      },
      {
       "output_type": "stream",
       "stream": "stdout",
       "text": [
        "[ProfileCreate] Generating default config file: u'/Users/alexg/.ipython/profile_londontube-light/ipython_nbconvert_config.py'\r\n"
       ]
      },
      {
       "output_type": "stream",
       "stream": "stdout",
       "text": [
        "[ProfileCreate] Generating default config file: u'/Users/alexg/.ipython/profile_marrakesh-dark/ipython_config.py'\r\n",
        "[ProfileCreate] Generating default config file: u'/Users/alexg/.ipython/profile_marrakesh-dark/ipython_notebook_config.py'\r\n"
       ]
      },
      {
       "output_type": "stream",
       "stream": "stdout",
       "text": [
        "[ProfileCreate] Generating default config file: u'/Users/alexg/.ipython/profile_marrakesh-dark/ipython_nbconvert_config.py'\r\n"
       ]
      },
      {
       "output_type": "stream",
       "stream": "stdout",
       "text": [
        "[ProfileCreate] Generating default config file: u'/Users/alexg/.ipython/profile_marrakesh-light/ipython_config.py'\r\n",
        "[ProfileCreate] Generating default config file: u'/Users/alexg/.ipython/profile_marrakesh-light/ipython_notebook_config.py'\r\n"
       ]
      },
      {
       "output_type": "stream",
       "stream": "stdout",
       "text": [
        "[ProfileCreate] Generating default config file: u'/Users/alexg/.ipython/profile_marrakesh-light/ipython_nbconvert_config.py'\r\n"
       ]
      },
      {
       "output_type": "stream",
       "stream": "stdout",
       "text": [
        "[ProfileCreate] Generating default config file: u'/Users/alexg/.ipython/profile_mocha-dark/ipython_config.py'\r\n"
       ]
      },
      {
       "output_type": "stream",
       "stream": "stdout",
       "text": [
        "[ProfileCreate] Generating default config file: u'/Users/alexg/.ipython/profile_mocha-dark/ipython_notebook_config.py'\r\n"
       ]
      },
      {
       "output_type": "stream",
       "stream": "stdout",
       "text": [
        "[ProfileCreate] Generating default config file: u'/Users/alexg/.ipython/profile_mocha-dark/ipython_nbconvert_config.py'\r\n"
       ]
      },
      {
       "output_type": "stream",
       "stream": "stdout",
       "text": [
        "[ProfileCreate] Generating default config file: u'/Users/alexg/.ipython/profile_mocha-light/ipython_config.py'\r\n",
        "[ProfileCreate] Generating default config file: u'/Users/alexg/.ipython/profile_mocha-light/ipython_notebook_config.py'\r\n"
       ]
      },
      {
       "output_type": "stream",
       "stream": "stdout",
       "text": [
        "[ProfileCreate] Generating default config file: u'/Users/alexg/.ipython/profile_mocha-light/ipython_nbconvert_config.py'\r\n"
       ]
      },
      {
       "output_type": "stream",
       "stream": "stdout",
       "text": [
        "[ProfileCreate] Generating default config file: u'/Users/alexg/.ipython/profile_monokai-dark/ipython_config.py'\r\n",
        "[ProfileCreate] Generating default config file: u'/Users/alexg/.ipython/profile_monokai-dark/ipython_notebook_config.py'\r\n"
       ]
      },
      {
       "output_type": "stream",
       "stream": "stdout",
       "text": [
        "[ProfileCreate] Generating default config file: u'/Users/alexg/.ipython/profile_monokai-dark/ipython_nbconvert_config.py'\r\n"
       ]
      },
      {
       "output_type": "stream",
       "stream": "stdout",
       "text": [
        "[ProfileCreate] Generating default config file: u'/Users/alexg/.ipython/profile_monokai-light/ipython_config.py'\r\n"
       ]
      },
      {
       "output_type": "stream",
       "stream": "stdout",
       "text": [
        "[ProfileCreate] Generating default config file: u'/Users/alexg/.ipython/profile_monokai-light/ipython_notebook_config.py'\r\n",
        "[ProfileCreate] Generating default config file: u'/Users/alexg/.ipython/profile_monokai-light/ipython_nbconvert_config.py'\r\n"
       ]
      },
      {
       "output_type": "stream",
       "stream": "stdout",
       "text": [
        "[ProfileCreate] Generating default config file: u'/Users/alexg/.ipython/profile_ocean-dark/ipython_config.py'\r\n"
       ]
      },
      {
       "output_type": "stream",
       "stream": "stdout",
       "text": [
        "[ProfileCreate] Generating default config file: u'/Users/alexg/.ipython/profile_ocean-dark/ipython_notebook_config.py'\r\n"
       ]
      },
      {
       "output_type": "stream",
       "stream": "stdout",
       "text": [
        "[ProfileCreate] Generating default config file: u'/Users/alexg/.ipython/profile_ocean-dark/ipython_nbconvert_config.py'\r\n"
       ]
      },
      {
       "output_type": "stream",
       "stream": "stdout",
       "text": [
        "[ProfileCreate] Generating default config file: u'/Users/alexg/.ipython/profile_ocean-light/ipython_config.py'\r\n"
       ]
      },
      {
       "output_type": "stream",
       "stream": "stdout",
       "text": [
        "[ProfileCreate] Generating default config file: u'/Users/alexg/.ipython/profile_ocean-light/ipython_notebook_config.py'\r\n"
       ]
      },
      {
       "output_type": "stream",
       "stream": "stdout",
       "text": [
        "[ProfileCreate] Generating default config file: u'/Users/alexg/.ipython/profile_ocean-light/ipython_nbconvert_config.py'\r\n"
       ]
      },
      {
       "output_type": "stream",
       "stream": "stdout",
       "text": [
        "[ProfileCreate] Generating default config file: u'/Users/alexg/.ipython/profile_paraiso-dark/ipython_config.py'\r\n",
        "[ProfileCreate] Generating default config file: u'/Users/alexg/.ipython/profile_paraiso-dark/ipython_notebook_config.py'\r\n"
       ]
      },
      {
       "output_type": "stream",
       "stream": "stdout",
       "text": [
        "[ProfileCreate] Generating default config file: u'/Users/alexg/.ipython/profile_paraiso-dark/ipython_nbconvert_config.py'\r\n"
       ]
      },
      {
       "output_type": "stream",
       "stream": "stdout",
       "text": [
        "[ProfileCreate] Generating default config file: u'/Users/alexg/.ipython/profile_paraiso-light/ipython_config.py'\r\n",
        "[ProfileCreate] Generating default config file: u'/Users/alexg/.ipython/profile_paraiso-light/ipython_notebook_config.py'\r\n"
       ]
      },
      {
       "output_type": "stream",
       "stream": "stdout",
       "text": [
        "[ProfileCreate] Generating default config file: u'/Users/alexg/.ipython/profile_paraiso-light/ipython_nbconvert_config.py'\r\n"
       ]
      },
      {
       "output_type": "stream",
       "stream": "stdout",
       "text": [
        "[ProfileCreate] Generating default config file: u'/Users/alexg/.ipython/profile_railscasts-dark/ipython_config.py'\r\n",
        "[ProfileCreate] Generating default config file: u'/Users/alexg/.ipython/profile_railscasts-dark/ipython_notebook_config.py'\r\n"
       ]
      },
      {
       "output_type": "stream",
       "stream": "stdout",
       "text": [
        "[ProfileCreate] Generating default config file: u'/Users/alexg/.ipython/profile_railscasts-dark/ipython_nbconvert_config.py'\r\n"
       ]
      },
      {
       "output_type": "stream",
       "stream": "stdout",
       "text": [
        "[ProfileCreate] Generating default config file: u'/Users/alexg/.ipython/profile_railscasts-light/ipython_config.py'\r\n"
       ]
      },
      {
       "output_type": "stream",
       "stream": "stdout",
       "text": [
        "[ProfileCreate] Generating default config file: u'/Users/alexg/.ipython/profile_railscasts-light/ipython_notebook_config.py'\r\n",
        "[ProfileCreate] Generating default config file: u'/Users/alexg/.ipython/profile_railscasts-light/ipython_nbconvert_config.py'\r\n"
       ]
      },
      {
       "output_type": "stream",
       "stream": "stdout",
       "text": [
        "[ProfileCreate] Generating default config file: u'/Users/alexg/.ipython/profile_shapeshifter-dark/ipython_config.py'\r\n"
       ]
      },
      {
       "output_type": "stream",
       "stream": "stdout",
       "text": [
        "[ProfileCreate] Generating default config file: u'/Users/alexg/.ipython/profile_shapeshifter-dark/ipython_notebook_config.py'\r\n",
        "[ProfileCreate] Generating default config file: u'/Users/alexg/.ipython/profile_shapeshifter-dark/ipython_nbconvert_config.py'\r\n"
       ]
      },
      {
       "output_type": "stream",
       "stream": "stdout",
       "text": [
        "[ProfileCreate] Generating default config file: u'/Users/alexg/.ipython/profile_shapeshifter-light/ipython_config.py'\r\n",
        "[ProfileCreate] Generating default config file: u'/Users/alexg/.ipython/profile_shapeshifter-light/ipython_notebook_config.py'\r\n"
       ]
      },
      {
       "output_type": "stream",
       "stream": "stdout",
       "text": [
        "[ProfileCreate] Generating default config file: u'/Users/alexg/.ipython/profile_shapeshifter-light/ipython_nbconvert_config.py'\r\n"
       ]
      },
      {
       "output_type": "stream",
       "stream": "stdout",
       "text": [
        "[ProfileCreate] Generating default config file: u'/Users/alexg/.ipython/profile_solarized-dark/ipython_config.py'\r\n"
       ]
      },
      {
       "output_type": "stream",
       "stream": "stdout",
       "text": [
        "[ProfileCreate] Generating default config file: u'/Users/alexg/.ipython/profile_solarized-dark/ipython_notebook_config.py'\r\n"
       ]
      },
      {
       "output_type": "stream",
       "stream": "stdout",
       "text": [
        "[ProfileCreate] Generating default config file: u'/Users/alexg/.ipython/profile_solarized-dark/ipython_nbconvert_config.py'\r\n"
       ]
      },
      {
       "output_type": "stream",
       "stream": "stdout",
       "text": [
        "[ProfileCreate] Generating default config file: u'/Users/alexg/.ipython/profile_solarized-light/ipython_config.py'\r\n",
        "[ProfileCreate] Generating default config file: u'/Users/alexg/.ipython/profile_solarized-light/ipython_notebook_config.py'\r\n"
       ]
      },
      {
       "output_type": "stream",
       "stream": "stdout",
       "text": [
        "[ProfileCreate] Generating default config file: u'/Users/alexg/.ipython/profile_solarized-light/ipython_nbconvert_config.py'\r\n"
       ]
      },
      {
       "output_type": "stream",
       "stream": "stdout",
       "text": [
        "[ProfileCreate] Generating default config file: u'/Users/alexg/.ipython/profile_tomorrow-dark/ipython_config.py'\r\n"
       ]
      },
      {
       "output_type": "stream",
       "stream": "stdout",
       "text": [
        "[ProfileCreate] Generating default config file: u'/Users/alexg/.ipython/profile_tomorrow-dark/ipython_notebook_config.py'\r\n"
       ]
      },
      {
       "output_type": "stream",
       "stream": "stdout",
       "text": [
        "[ProfileCreate] Generating default config file: u'/Users/alexg/.ipython/profile_tomorrow-dark/ipython_nbconvert_config.py'\r\n"
       ]
      },
      {
       "output_type": "stream",
       "stream": "stdout",
       "text": [
        "[ProfileCreate] Generating default config file: u'/Users/alexg/.ipython/profile_tomorrow-light/ipython_config.py'\r\n",
        "[ProfileCreate] Generating default config file: u'/Users/alexg/.ipython/profile_tomorrow-light/ipython_notebook_config.py'\r\n"
       ]
      },
      {
       "output_type": "stream",
       "stream": "stdout",
       "text": [
        "[ProfileCreate] Generating default config file: u'/Users/alexg/.ipython/profile_tomorrow-light/ipython_nbconvert_config.py'\r\n"
       ]
      },
      {
       "output_type": "stream",
       "stream": "stdout",
       "text": [
        "[ProfileCreate] Generating default config file: u'/Users/alexg/.ipython/profile_twilight-dark/ipython_config.py'\r\n"
       ]
      },
      {
       "output_type": "stream",
       "stream": "stdout",
       "text": [
        "[ProfileCreate] Generating default config file: u'/Users/alexg/.ipython/profile_twilight-dark/ipython_notebook_config.py'\r\n",
        "[ProfileCreate] Generating default config file: u'/Users/alexg/.ipython/profile_twilight-dark/ipython_nbconvert_config.py'\r\n"
       ]
      },
      {
       "output_type": "stream",
       "stream": "stdout",
       "text": [
        "[ProfileCreate] Generating default config file: u'/Users/alexg/.ipython/profile_twilight-light/ipython_config.py'\r\n",
        "[ProfileCreate] Generating default config file: u'/Users/alexg/.ipython/profile_twilight-light/ipython_notebook_config.py'\r\n"
       ]
      },
      {
       "output_type": "stream",
       "stream": "stdout",
       "text": [
        "[ProfileCreate] Generating default config file: u'/Users/alexg/.ipython/profile_twilight-light/ipython_nbconvert_config.py'\r\n"
       ]
      }
     ],
     "prompt_number": 4
    },
    {
     "cell_type": "code",
     "collapsed": false,
     "input": [],
     "language": "python",
     "metadata": {},
     "outputs": []
    }
   ],
   "metadata": {}
  }
 ]
}